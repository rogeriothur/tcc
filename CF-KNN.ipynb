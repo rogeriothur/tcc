{
 "cells": [
  {
   "cell_type": "markdown",
   "metadata": {},
   "source": [
    "# Abstract"
   ]
  },
  {
   "cell_type": "markdown",
   "metadata": {},
   "source": [
    "The objective of this work was to propose the development of a SR (Recommendation System) for films using:\n",
    "    <ul>\n",
    "        <li>the preferences of users</li>\n",
    "    </ul>\n",
    "Being characterized as a facilitador to reatin users on the plataform"
   ]
  },
  {
   "cell_type": "markdown",
   "metadata": {},
   "source": [
    "KNN is an ML algorithm for finding similar user groups based on common movie ratings and making predictions using the average rating of the nearest major neighbors"
   ]
  },
  {
   "cell_type": "markdown",
   "metadata": {},
   "source": [
    "# Resumo"
   ]
  },
  {
   "cell_type": "markdown",
   "metadata": {},
   "source": [
    "O objetivo deste trabalho foi propor o desenvolvimento de um SR (Sistema de Recomendação) de filmes utilizando:\n",
    "    <ul>\n",
    "        <li>as preferências dos usuários</li>\n",
    "    </ul>\n",
    "Caracterizando-se como facilitador para reter os usuários na plataforma.\n",
    "\n",
    "O KNN é um algoritmo de ML para encontrar grupos de usuários semelhantes com base em classificações comuns de filmes e fazer previsões usando a classificação média dos principais vizinho mais próximos"
   ]
  },
  {
   "cell_type": "markdown",
   "metadata": {},
   "source": [
    "# Importando as bibliotecas "
   ]
  },
  {
   "cell_type": "code",
   "execution_count": 1,
   "metadata": {},
   "outputs": [],
   "source": [
    "!pip freeze > requirements.txt"
   ]
  },
  {
   "cell_type": "markdown",
   "metadata": {},
   "source": [
    "<h4>Importando libs de visualização</h4>"
   ]
  },
  {
   "cell_type": "code",
   "execution_count": 2,
   "metadata": {},
   "outputs": [],
   "source": [
    "import matplotlib.pyplot as plt\n",
    "import seaborn as sns"
   ]
  },
  {
   "cell_type": "markdown",
   "metadata": {},
   "source": [
    "<h4>Importando libs de métricas e machine learning</h4>"
   ]
  },
  {
   "cell_type": "code",
   "execution_count": 3,
   "metadata": {},
   "outputs": [],
   "source": [
    "from sklearn.neighbors import NearestNeighbors\n",
    "from sklearn.metrics import mean_squared_error\n",
    "from sklearn.metrics import mean_absolute_error"
   ]
  },
  {
   "cell_type": "code",
   "execution_count": 4,
   "metadata": {},
   "outputs": [],
   "source": [
    "import pandas as pd\n",
    "\n",
    "from scipy.sparse import csr_matrix\n",
    "import numpy as np\n",
    "import datetime\n",
    "\n",
    "%matplotlib inline\n",
    "sns.set(style=\"white\")\n",
    "sns.set(font_scale=1.5)"
   ]
  },
  {
   "cell_type": "markdown",
   "metadata": {},
   "source": [
    "<h4>Importando arquivos do Dataset</h4>"
   ]
  },
  {
   "cell_type": "code",
   "execution_count": 5,
   "metadata": {},
   "outputs": [
    {
     "name": "stdout",
     "output_type": "stream",
     "text": [
      "Wall time: 7.9 s\n"
     ]
    }
   ],
   "source": [
    "%%time\n",
    "ratings = pd.read_csv('D:/Data Science/tcc/movielens/ratings.csv', sep=',')\n",
    "movies = pd.read_csv('D:/Data Science/tcc/movielens/movies.csv', sep=',')"
   ]
  },
  {
   "cell_type": "markdown",
   "metadata": {},
   "source": [
    "-**`Visualizando DataFrame ratings`**"
   ]
  },
  {
   "cell_type": "code",
   "execution_count": 6,
   "metadata": {},
   "outputs": [
    {
     "data": {
      "text/html": [
       "<div>\n",
       "<style scoped>\n",
       "    .dataframe tbody tr th:only-of-type {\n",
       "        vertical-align: middle;\n",
       "    }\n",
       "\n",
       "    .dataframe tbody tr th {\n",
       "        vertical-align: top;\n",
       "    }\n",
       "\n",
       "    .dataframe thead th {\n",
       "        text-align: right;\n",
       "    }\n",
       "</style>\n",
       "<table border=\"1\" class=\"dataframe\">\n",
       "  <thead>\n",
       "    <tr style=\"text-align: right;\">\n",
       "      <th></th>\n",
       "      <th>userId</th>\n",
       "      <th>movieId</th>\n",
       "      <th>rating</th>\n",
       "      <th>timestamp</th>\n",
       "    </tr>\n",
       "  </thead>\n",
       "  <tbody>\n",
       "    <tr>\n",
       "      <th>0</th>\n",
       "      <td>1</td>\n",
       "      <td>307</td>\n",
       "      <td>3.5</td>\n",
       "      <td>1256677221</td>\n",
       "    </tr>\n",
       "    <tr>\n",
       "      <th>1</th>\n",
       "      <td>1</td>\n",
       "      <td>481</td>\n",
       "      <td>3.5</td>\n",
       "      <td>1256677456</td>\n",
       "    </tr>\n",
       "    <tr>\n",
       "      <th>2</th>\n",
       "      <td>1</td>\n",
       "      <td>1091</td>\n",
       "      <td>1.5</td>\n",
       "      <td>1256677471</td>\n",
       "    </tr>\n",
       "    <tr>\n",
       "      <th>3</th>\n",
       "      <td>1</td>\n",
       "      <td>1257</td>\n",
       "      <td>4.5</td>\n",
       "      <td>1256677460</td>\n",
       "    </tr>\n",
       "    <tr>\n",
       "      <th>4</th>\n",
       "      <td>1</td>\n",
       "      <td>1449</td>\n",
       "      <td>4.5</td>\n",
       "      <td>1256677264</td>\n",
       "    </tr>\n",
       "  </tbody>\n",
       "</table>\n",
       "</div>"
      ],
      "text/plain": [
       "   userId  movieId  rating   timestamp\n",
       "0       1      307     3.5  1256677221\n",
       "1       1      481     3.5  1256677456\n",
       "2       1     1091     1.5  1256677471\n",
       "3       1     1257     4.5  1256677460\n",
       "4       1     1449     4.5  1256677264"
      ]
     },
     "execution_count": 6,
     "metadata": {},
     "output_type": "execute_result"
    }
   ],
   "source": [
    "ratings.head()"
   ]
  },
  {
   "cell_type": "markdown",
   "metadata": {},
   "source": [
    "-**`Visualizando DataFrame movies`**"
   ]
  },
  {
   "cell_type": "code",
   "execution_count": 7,
   "metadata": {},
   "outputs": [
    {
     "data": {
      "text/html": [
       "<div>\n",
       "<style scoped>\n",
       "    .dataframe tbody tr th:only-of-type {\n",
       "        vertical-align: middle;\n",
       "    }\n",
       "\n",
       "    .dataframe tbody tr th {\n",
       "        vertical-align: top;\n",
       "    }\n",
       "\n",
       "    .dataframe thead th {\n",
       "        text-align: right;\n",
       "    }\n",
       "</style>\n",
       "<table border=\"1\" class=\"dataframe\">\n",
       "  <thead>\n",
       "    <tr style=\"text-align: right;\">\n",
       "      <th></th>\n",
       "      <th>movieId</th>\n",
       "      <th>title</th>\n",
       "      <th>genres</th>\n",
       "    </tr>\n",
       "  </thead>\n",
       "  <tbody>\n",
       "    <tr>\n",
       "      <th>0</th>\n",
       "      <td>1</td>\n",
       "      <td>Toy Story (1995)</td>\n",
       "      <td>Adventure|Animation|Children|Comedy|Fantasy</td>\n",
       "    </tr>\n",
       "    <tr>\n",
       "      <th>1</th>\n",
       "      <td>2</td>\n",
       "      <td>Jumanji (1995)</td>\n",
       "      <td>Adventure|Children|Fantasy</td>\n",
       "    </tr>\n",
       "    <tr>\n",
       "      <th>2</th>\n",
       "      <td>3</td>\n",
       "      <td>Grumpier Old Men (1995)</td>\n",
       "      <td>Comedy|Romance</td>\n",
       "    </tr>\n",
       "    <tr>\n",
       "      <th>3</th>\n",
       "      <td>4</td>\n",
       "      <td>Waiting to Exhale (1995)</td>\n",
       "      <td>Comedy|Drama|Romance</td>\n",
       "    </tr>\n",
       "    <tr>\n",
       "      <th>4</th>\n",
       "      <td>5</td>\n",
       "      <td>Father of the Bride Part II (1995)</td>\n",
       "      <td>Comedy</td>\n",
       "    </tr>\n",
       "  </tbody>\n",
       "</table>\n",
       "</div>"
      ],
      "text/plain": [
       "   movieId                               title  \\\n",
       "0        1                    Toy Story (1995)   \n",
       "1        2                      Jumanji (1995)   \n",
       "2        3             Grumpier Old Men (1995)   \n",
       "3        4            Waiting to Exhale (1995)   \n",
       "4        5  Father of the Bride Part II (1995)   \n",
       "\n",
       "                                        genres  \n",
       "0  Adventure|Animation|Children|Comedy|Fantasy  \n",
       "1                   Adventure|Children|Fantasy  \n",
       "2                               Comedy|Romance  \n",
       "3                         Comedy|Drama|Romance  \n",
       "4                                       Comedy  "
      ]
     },
     "execution_count": 7,
     "metadata": {},
     "output_type": "execute_result"
    }
   ],
   "source": [
    "movies.head()"
   ]
  },
  {
   "cell_type": "markdown",
   "metadata": {},
   "source": [
    "<h4>Realizando o merge dos DataFrames</h4>"
   ]
  },
  {
   "cell_type": "code",
   "execution_count": 8,
   "metadata": {},
   "outputs": [],
   "source": [
    "df = pd.merge(ratings, movies, on='movieId')"
   ]
  },
  {
   "cell_type": "code",
   "execution_count": 9,
   "metadata": {},
   "outputs": [
    {
     "data": {
      "text/html": [
       "<div>\n",
       "<style scoped>\n",
       "    .dataframe tbody tr th:only-of-type {\n",
       "        vertical-align: middle;\n",
       "    }\n",
       "\n",
       "    .dataframe tbody tr th {\n",
       "        vertical-align: top;\n",
       "    }\n",
       "\n",
       "    .dataframe thead th {\n",
       "        text-align: right;\n",
       "    }\n",
       "</style>\n",
       "<table border=\"1\" class=\"dataframe\">\n",
       "  <thead>\n",
       "    <tr style=\"text-align: right;\">\n",
       "      <th></th>\n",
       "      <th>userId</th>\n",
       "      <th>movieId</th>\n",
       "      <th>rating</th>\n",
       "      <th>timestamp</th>\n",
       "      <th>title</th>\n",
       "      <th>genres</th>\n",
       "    </tr>\n",
       "  </thead>\n",
       "  <tbody>\n",
       "    <tr>\n",
       "      <th>0</th>\n",
       "      <td>1</td>\n",
       "      <td>307</td>\n",
       "      <td>3.5</td>\n",
       "      <td>1256677221</td>\n",
       "      <td>Three Colors: Blue (Trois couleurs: Bleu) (1993)</td>\n",
       "      <td>Drama</td>\n",
       "    </tr>\n",
       "    <tr>\n",
       "      <th>1</th>\n",
       "      <td>6</td>\n",
       "      <td>307</td>\n",
       "      <td>4.0</td>\n",
       "      <td>832059248</td>\n",
       "      <td>Three Colors: Blue (Trois couleurs: Bleu) (1993)</td>\n",
       "      <td>Drama</td>\n",
       "    </tr>\n",
       "    <tr>\n",
       "      <th>2</th>\n",
       "      <td>56</td>\n",
       "      <td>307</td>\n",
       "      <td>4.0</td>\n",
       "      <td>1383625728</td>\n",
       "      <td>Three Colors: Blue (Trois couleurs: Bleu) (1993)</td>\n",
       "      <td>Drama</td>\n",
       "    </tr>\n",
       "    <tr>\n",
       "      <th>3</th>\n",
       "      <td>71</td>\n",
       "      <td>307</td>\n",
       "      <td>5.0</td>\n",
       "      <td>1257795414</td>\n",
       "      <td>Three Colors: Blue (Trois couleurs: Bleu) (1993)</td>\n",
       "      <td>Drama</td>\n",
       "    </tr>\n",
       "    <tr>\n",
       "      <th>4</th>\n",
       "      <td>84</td>\n",
       "      <td>307</td>\n",
       "      <td>3.0</td>\n",
       "      <td>999055519</td>\n",
       "      <td>Three Colors: Blue (Trois couleurs: Bleu) (1993)</td>\n",
       "      <td>Drama</td>\n",
       "    </tr>\n",
       "  </tbody>\n",
       "</table>\n",
       "</div>"
      ],
      "text/plain": [
       "   userId  movieId  rating   timestamp  \\\n",
       "0       1      307     3.5  1256677221   \n",
       "1       6      307     4.0   832059248   \n",
       "2      56      307     4.0  1383625728   \n",
       "3      71      307     5.0  1257795414   \n",
       "4      84      307     3.0   999055519   \n",
       "\n",
       "                                              title genres  \n",
       "0  Three Colors: Blue (Trois couleurs: Bleu) (1993)  Drama  \n",
       "1  Three Colors: Blue (Trois couleurs: Bleu) (1993)  Drama  \n",
       "2  Three Colors: Blue (Trois couleurs: Bleu) (1993)  Drama  \n",
       "3  Three Colors: Blue (Trois couleurs: Bleu) (1993)  Drama  \n",
       "4  Three Colors: Blue (Trois couleurs: Bleu) (1993)  Drama  "
      ]
     },
     "execution_count": 9,
     "metadata": {},
     "output_type": "execute_result"
    }
   ],
   "source": [
    "df.head()"
   ]
  },
  {
   "cell_type": "markdown",
   "metadata": {},
   "source": [
    "-**`Visualizando informações importantes em relação ao DataFrame`**"
   ]
  },
  {
   "cell_type": "code",
   "execution_count": 10,
   "metadata": {},
   "outputs": [
    {
     "name": "stdout",
     "output_type": "stream",
     "text": [
      "<class 'pandas.core.frame.DataFrame'>\n",
      "Int64Index: 27753444 entries, 0 to 27753443\n",
      "Data columns (total 6 columns):\n",
      " #   Column     Dtype  \n",
      "---  ------     -----  \n",
      " 0   userId     int64  \n",
      " 1   movieId    int64  \n",
      " 2   rating     float64\n",
      " 3   timestamp  int64  \n",
      " 4   title      object \n",
      " 5   genres     object \n",
      "dtypes: float64(1), int64(3), object(2)\n",
      "memory usage: 1.4+ GB\n"
     ]
    }
   ],
   "source": [
    "df.info()"
   ]
  },
  {
   "cell_type": "markdown",
   "metadata": {},
   "source": [
    "-**`Visualizando a distribuição das notas dos filmes`**"
   ]
  },
  {
   "cell_type": "code",
   "execution_count": 19,
   "metadata": {},
   "outputs": [
    {
     "data": {
      "text/plain": [
       "Text(0, 0.5, 'Quantidade')"
      ]
     },
     "execution_count": 19,
     "metadata": {},
     "output_type": "execute_result"
    },
    {
     "data": {
      "image/png": "[encoded data removed]",
      "text/plain": [
       "<Figure size 720x504 with 1 Axes>"
      ]
     },
     "metadata": {},
     "output_type": "display_data"
    }
   ],
   "source": [
    "plt.subplots(figsize=(10,7))\n",
    "\n",
    "ax = sns.countplot(x='rating',\n",
    "                   order=df.rating.value_counts(ascending=True).index,\n",
    "                   data=df)\n",
    "\n",
    "ax.set_title(\"Quantidade de avaliação por nota\", fontsize=18)\n",
    "plt.xlabel('Avaliação')\n",
    "plt.ylabel('Quantidade')\n",
    "\n",
    "# plt.savefig('count-values-rating.png', dpi=300)"
   ]
  },
  {
   "cell_type": "code",
   "execution_count": 13,
   "metadata": {},
   "outputs": [
    {
     "data": {
      "text/plain": [
       "4.0    7394710\n",
       "3.0    5515668\n",
       "5.0    4071135\n",
       "3.5    3404360\n",
       "4.5    2373550\n",
       "2.0    1850627\n",
       "2.5    1373419\n",
       "1.0     886233\n",
       "0.5     442388\n",
       "1.5     441354\n",
       "Name: rating, dtype: int64"
      ]
     },
     "execution_count": 13,
     "metadata": {},
     "output_type": "execute_result"
    }
   ],
   "source": [
    "df.rating.value_counts()"
   ]
  },
  {
   "cell_type": "markdown",
   "metadata": {},
   "source": [
    "-**`Descobrindo a quantidade de vezes que o filme foi avaliado`**"
   ]
  },
  {
   "cell_type": "code",
   "execution_count": 14,
   "metadata": {},
   "outputs": [],
   "source": [
    "#função values_counts() verificando quantas vezes o filmes está no DataFrame, ou seja, a quantidade de avaliações que o \n",
    "# filme recebeu\n",
    "total_ratings = df['movieId'].value_counts()\n",
    "df = df.set_index('movieId')\n",
    "df['total_ratings'] = total_ratings"
   ]
  },
  {
   "cell_type": "code",
   "execution_count": 15,
   "metadata": {},
   "outputs": [],
   "source": [
    "#total_ratings"
   ]
  },
  {
   "cell_type": "code",
   "execution_count": 16,
   "metadata": {},
   "outputs": [],
   "source": [
    "movies = movies.set_index('movieId')\n",
    "movies['total_ratings'] = total_ratings"
   ]
  },
  {
   "cell_type": "code",
   "execution_count": 17,
   "metadata": {},
   "outputs": [],
   "source": [
    "df = df.reset_index()"
   ]
  },
  {
   "cell_type": "code",
   "execution_count": 18,
   "metadata": {},
   "outputs": [
    {
     "data": {
      "text/html": [
       "<div>\n",
       "<style scoped>\n",
       "    .dataframe tbody tr th:only-of-type {\n",
       "        vertical-align: middle;\n",
       "    }\n",
       "\n",
       "    .dataframe tbody tr th {\n",
       "        vertical-align: top;\n",
       "    }\n",
       "\n",
       "    .dataframe thead th {\n",
       "        text-align: right;\n",
       "    }\n",
       "</style>\n",
       "<table border=\"1\" class=\"dataframe\">\n",
       "  <thead>\n",
       "    <tr style=\"text-align: right;\">\n",
       "      <th></th>\n",
       "      <th>movieId</th>\n",
       "      <th>userId</th>\n",
       "      <th>rating</th>\n",
       "      <th>timestamp</th>\n",
       "      <th>title</th>\n",
       "      <th>genres</th>\n",
       "      <th>total_ratings</th>\n",
       "    </tr>\n",
       "  </thead>\n",
       "  <tbody>\n",
       "    <tr>\n",
       "      <th>0</th>\n",
       "      <td>307</td>\n",
       "      <td>1</td>\n",
       "      <td>3.5</td>\n",
       "      <td>1256677221</td>\n",
       "      <td>Three Colors: Blue (Trois couleurs: Bleu) (1993)</td>\n",
       "      <td>Drama</td>\n",
       "      <td>7958</td>\n",
       "    </tr>\n",
       "    <tr>\n",
       "      <th>1</th>\n",
       "      <td>307</td>\n",
       "      <td>6</td>\n",
       "      <td>4.0</td>\n",
       "      <td>832059248</td>\n",
       "      <td>Three Colors: Blue (Trois couleurs: Bleu) (1993)</td>\n",
       "      <td>Drama</td>\n",
       "      <td>7958</td>\n",
       "    </tr>\n",
       "    <tr>\n",
       "      <th>2</th>\n",
       "      <td>307</td>\n",
       "      <td>56</td>\n",
       "      <td>4.0</td>\n",
       "      <td>1383625728</td>\n",
       "      <td>Three Colors: Blue (Trois couleurs: Bleu) (1993)</td>\n",
       "      <td>Drama</td>\n",
       "      <td>7958</td>\n",
       "    </tr>\n",
       "    <tr>\n",
       "      <th>3</th>\n",
       "      <td>307</td>\n",
       "      <td>71</td>\n",
       "      <td>5.0</td>\n",
       "      <td>1257795414</td>\n",
       "      <td>Three Colors: Blue (Trois couleurs: Bleu) (1993)</td>\n",
       "      <td>Drama</td>\n",
       "      <td>7958</td>\n",
       "    </tr>\n",
       "    <tr>\n",
       "      <th>4</th>\n",
       "      <td>307</td>\n",
       "      <td>84</td>\n",
       "      <td>3.0</td>\n",
       "      <td>999055519</td>\n",
       "      <td>Three Colors: Blue (Trois couleurs: Bleu) (1993)</td>\n",
       "      <td>Drama</td>\n",
       "      <td>7958</td>\n",
       "    </tr>\n",
       "  </tbody>\n",
       "</table>\n",
       "</div>"
      ],
      "text/plain": [
       "   movieId  userId  rating   timestamp  \\\n",
       "0      307       1     3.5  1256677221   \n",
       "1      307       6     4.0   832059248   \n",
       "2      307      56     4.0  1383625728   \n",
       "3      307      71     5.0  1257795414   \n",
       "4      307      84     3.0   999055519   \n",
       "\n",
       "                                              title genres  total_ratings  \n",
       "0  Three Colors: Blue (Trois couleurs: Bleu) (1993)  Drama           7958  \n",
       "1  Three Colors: Blue (Trois couleurs: Bleu) (1993)  Drama           7958  \n",
       "2  Three Colors: Blue (Trois couleurs: Bleu) (1993)  Drama           7958  \n",
       "3  Three Colors: Blue (Trois couleurs: Bleu) (1993)  Drama           7958  \n",
       "4  Three Colors: Blue (Trois couleurs: Bleu) (1993)  Drama           7958  "
      ]
     },
     "execution_count": 18,
     "metadata": {},
     "output_type": "execute_result"
    }
   ],
   "source": [
    "df.head()"
   ]
  },
  {
   "cell_type": "code",
   "execution_count": 16,
   "metadata": {},
   "outputs": [
    {
     "data": {
      "text/html": [
       "<div>\n",
       "<style scoped>\n",
       "    .dataframe tbody tr th:only-of-type {\n",
       "        vertical-align: middle;\n",
       "    }\n",
       "\n",
       "    .dataframe tbody tr th {\n",
       "        vertical-align: top;\n",
       "    }\n",
       "\n",
       "    .dataframe thead th {\n",
       "        text-align: right;\n",
       "    }\n",
       "</style>\n",
       "<table border=\"1\" class=\"dataframe\">\n",
       "  <thead>\n",
       "    <tr style=\"text-align: right;\">\n",
       "      <th></th>\n",
       "      <th>movieId</th>\n",
       "      <th>userId</th>\n",
       "      <th>rating</th>\n",
       "      <th>timestamp</th>\n",
       "      <th>title</th>\n",
       "      <th>genres</th>\n",
       "      <th>total_ratings</th>\n",
       "    </tr>\n",
       "  </thead>\n",
       "  <tbody>\n",
       "    <tr>\n",
       "      <th>2013175</th>\n",
       "      <td>318</td>\n",
       "      <td>118214</td>\n",
       "      <td>4.0</td>\n",
       "      <td>948305097</td>\n",
       "      <td>Shawshank Redemption, The (1994)</td>\n",
       "      <td>Crime|Drama</td>\n",
       "      <td>97999</td>\n",
       "    </tr>\n",
       "    <tr>\n",
       "      <th>2004965</th>\n",
       "      <td>318</td>\n",
       "      <td>94333</td>\n",
       "      <td>4.0</td>\n",
       "      <td>1075825476</td>\n",
       "      <td>Shawshank Redemption, The (1994)</td>\n",
       "      <td>Crime|Drama</td>\n",
       "      <td>97999</td>\n",
       "    </tr>\n",
       "    <tr>\n",
       "      <th>2004956</th>\n",
       "      <td>318</td>\n",
       "      <td>94310</td>\n",
       "      <td>4.0</td>\n",
       "      <td>1535831009</td>\n",
       "      <td>Shawshank Redemption, The (1994)</td>\n",
       "      <td>Crime|Drama</td>\n",
       "      <td>97999</td>\n",
       "    </tr>\n",
       "    <tr>\n",
       "      <th>2004957</th>\n",
       "      <td>318</td>\n",
       "      <td>94313</td>\n",
       "      <td>4.0</td>\n",
       "      <td>1002118866</td>\n",
       "      <td>Shawshank Redemption, The (1994)</td>\n",
       "      <td>Crime|Drama</td>\n",
       "      <td>97999</td>\n",
       "    </tr>\n",
       "    <tr>\n",
       "      <th>2004958</th>\n",
       "      <td>318</td>\n",
       "      <td>94317</td>\n",
       "      <td>5.0</td>\n",
       "      <td>1386875907</td>\n",
       "      <td>Shawshank Redemption, The (1994)</td>\n",
       "      <td>Crime|Drama</td>\n",
       "      <td>97999</td>\n",
       "    </tr>\n",
       "  </tbody>\n",
       "</table>\n",
       "</div>"
      ],
      "text/plain": [
       "         movieId  userId  rating   timestamp  \\\n",
       "2013175      318  118214     4.0   948305097   \n",
       "2004965      318   94333     4.0  1075825476   \n",
       "2004956      318   94310     4.0  1535831009   \n",
       "2004957      318   94313     4.0  1002118866   \n",
       "2004958      318   94317     5.0  1386875907   \n",
       "\n",
       "                                    title       genres  total_ratings  \n",
       "2013175  Shawshank Redemption, The (1994)  Crime|Drama          97999  \n",
       "2004965  Shawshank Redemption, The (1994)  Crime|Drama          97999  \n",
       "2004956  Shawshank Redemption, The (1994)  Crime|Drama          97999  \n",
       "2004957  Shawshank Redemption, The (1994)  Crime|Drama          97999  \n",
       "2004958  Shawshank Redemption, The (1994)  Crime|Drama          97999  "
      ]
     },
     "execution_count": 16,
     "metadata": {},
     "output_type": "execute_result"
    }
   ],
   "source": [
    "# mostrando os 5 filmes mais avaliados\n",
    "df.sort_values(by='total_ratings', ascending=False).head()"
   ]
  },
  {
   "cell_type": "markdown",
   "metadata": {},
   "source": [
    "# Limiar"
   ]
  },
  {
   "cell_type": "code",
   "execution_count": 17,
   "metadata": {},
   "outputs": [],
   "source": [
    "# mediana da quantidade de avaliações dos filmes\n",
    "mediana_total_ratings = df['total_ratings'].median()"
   ]
  },
  {
   "cell_type": "code",
   "execution_count": 18,
   "metadata": {},
   "outputs": [
    {
     "data": {
      "text/plain": [
       "10633.0"
      ]
     },
     "execution_count": 18,
     "metadata": {},
     "output_type": "execute_result"
    }
   ],
   "source": [
    "mediana_total_ratings"
   ]
  },
  {
   "cell_type": "code",
   "execution_count": 19,
   "metadata": {},
   "outputs": [
    {
     "data": {
      "text/plain": [
       "3.5304452124932677"
      ]
     },
     "execution_count": 19,
     "metadata": {},
     "output_type": "execute_result"
    }
   ],
   "source": [
    "# média das avaliações\n",
    "media_rating = df['rating'].mean()\n",
    "media_rating"
   ]
  },
  {
   "cell_type": "code",
   "execution_count": 20,
   "metadata": {},
   "outputs": [],
   "source": [
    "# filtrando o dataframe para que tenha apenas filmes com a quantidade de avaliação acima da mediana\n",
    "df = df.query('total_ratings >= @mediana_total_ratings')"
   ]
  },
  {
   "cell_type": "code",
   "execution_count": 21,
   "metadata": {},
   "outputs": [],
   "source": [
    "# filtrando o dataframe para que tenha apenas filmes com a avaliação acima da média\n",
    "df = df.query('rating >= @media_rating')"
   ]
  },
  {
   "cell_type": "code",
   "execution_count": 22,
   "metadata": {},
   "outputs": [
    {
     "data": {
      "text/html": [
       "<div>\n",
       "<style scoped>\n",
       "    .dataframe tbody tr th:only-of-type {\n",
       "        vertical-align: middle;\n",
       "    }\n",
       "\n",
       "    .dataframe tbody tr th {\n",
       "        vertical-align: top;\n",
       "    }\n",
       "\n",
       "    .dataframe thead th {\n",
       "        text-align: right;\n",
       "    }\n",
       "</style>\n",
       "<table border=\"1\" class=\"dataframe\">\n",
       "  <thead>\n",
       "    <tr style=\"text-align: right;\">\n",
       "      <th></th>\n",
       "      <th>movieId</th>\n",
       "      <th>userId</th>\n",
       "      <th>rating</th>\n",
       "      <th>timestamp</th>\n",
       "      <th>title</th>\n",
       "      <th>genres</th>\n",
       "      <th>total_ratings</th>\n",
       "    </tr>\n",
       "  </thead>\n",
       "  <tbody>\n",
       "    <tr>\n",
       "      <th>0</th>\n",
       "      <td>1221</td>\n",
       "      <td>3</td>\n",
       "      <td>4.0</td>\n",
       "      <td>945141407</td>\n",
       "      <td>Godfather: Part II, The (1974)</td>\n",
       "      <td>Crime|Drama</td>\n",
       "      <td>38875</td>\n",
       "    </tr>\n",
       "    <tr>\n",
       "      <th>1</th>\n",
       "      <td>1221</td>\n",
       "      <td>15</td>\n",
       "      <td>4.0</td>\n",
       "      <td>1370809477</td>\n",
       "      <td>Godfather: Part II, The (1974)</td>\n",
       "      <td>Crime|Drama</td>\n",
       "      <td>38875</td>\n",
       "    </tr>\n",
       "    <tr>\n",
       "      <th>2</th>\n",
       "      <td>1221</td>\n",
       "      <td>73</td>\n",
       "      <td>5.0</td>\n",
       "      <td>1437671653</td>\n",
       "      <td>Godfather: Part II, The (1974)</td>\n",
       "      <td>Crime|Drama</td>\n",
       "      <td>38875</td>\n",
       "    </tr>\n",
       "    <tr>\n",
       "      <th>3</th>\n",
       "      <td>1221</td>\n",
       "      <td>88</td>\n",
       "      <td>5.0</td>\n",
       "      <td>1208454502</td>\n",
       "      <td>Godfather: Part II, The (1974)</td>\n",
       "      <td>Crime|Drama</td>\n",
       "      <td>38875</td>\n",
       "    </tr>\n",
       "    <tr>\n",
       "      <th>4</th>\n",
       "      <td>1221</td>\n",
       "      <td>95</td>\n",
       "      <td>4.5</td>\n",
       "      <td>1086970047</td>\n",
       "      <td>Godfather: Part II, The (1974)</td>\n",
       "      <td>Crime|Drama</td>\n",
       "      <td>38875</td>\n",
       "    </tr>\n",
       "  </tbody>\n",
       "</table>\n",
       "</div>"
      ],
      "text/plain": [
       "   movieId  userId  rating   timestamp                           title  \\\n",
       "0     1221       3     4.0   945141407  Godfather: Part II, The (1974)   \n",
       "1     1221      15     4.0  1370809477  Godfather: Part II, The (1974)   \n",
       "2     1221      73     5.0  1437671653  Godfather: Part II, The (1974)   \n",
       "3     1221      88     5.0  1208454502  Godfather: Part II, The (1974)   \n",
       "4     1221      95     4.5  1086970047  Godfather: Part II, The (1974)   \n",
       "\n",
       "        genres  total_ratings  \n",
       "0  Crime|Drama          38875  \n",
       "1  Crime|Drama          38875  \n",
       "2  Crime|Drama          38875  \n",
       "3  Crime|Drama          38875  \n",
       "4  Crime|Drama          38875  "
      ]
     },
     "execution_count": 22,
     "metadata": {},
     "output_type": "execute_result"
    }
   ],
   "source": [
    "df = df.reset_index()\n",
    "df = df.drop(columns=['index'])\n",
    "df.head()"
   ]
  },
  {
   "cell_type": "code",
   "execution_count": 23,
   "metadata": {},
   "outputs": [
    {
     "data": {
      "text/html": [
       "<div>\n",
       "<style scoped>\n",
       "    .dataframe tbody tr th:only-of-type {\n",
       "        vertical-align: middle;\n",
       "    }\n",
       "\n",
       "    .dataframe tbody tr th {\n",
       "        vertical-align: top;\n",
       "    }\n",
       "\n",
       "    .dataframe thead th {\n",
       "        text-align: right;\n",
       "    }\n",
       "</style>\n",
       "<table border=\"1\" class=\"dataframe\">\n",
       "  <thead>\n",
       "    <tr style=\"text-align: right;\">\n",
       "      <th></th>\n",
       "      <th>title</th>\n",
       "      <th>genres</th>\n",
       "      <th>total_ratings</th>\n",
       "    </tr>\n",
       "    <tr>\n",
       "      <th>movieId</th>\n",
       "      <th></th>\n",
       "      <th></th>\n",
       "      <th></th>\n",
       "    </tr>\n",
       "  </thead>\n",
       "  <tbody>\n",
       "    <tr>\n",
       "      <th>318</th>\n",
       "      <td>Shawshank Redemption, The (1994)</td>\n",
       "      <td>Crime|Drama</td>\n",
       "      <td>97999.0</td>\n",
       "    </tr>\n",
       "    <tr>\n",
       "      <th>356</th>\n",
       "      <td>Forrest Gump (1994)</td>\n",
       "      <td>Comedy|Drama|Romance|War</td>\n",
       "      <td>97040.0</td>\n",
       "    </tr>\n",
       "    <tr>\n",
       "      <th>296</th>\n",
       "      <td>Pulp Fiction (1994)</td>\n",
       "      <td>Comedy|Crime|Drama|Thriller</td>\n",
       "      <td>92406.0</td>\n",
       "    </tr>\n",
       "    <tr>\n",
       "      <th>593</th>\n",
       "      <td>Silence of the Lambs, The (1991)</td>\n",
       "      <td>Crime|Horror|Thriller</td>\n",
       "      <td>87899.0</td>\n",
       "    </tr>\n",
       "    <tr>\n",
       "      <th>2571</th>\n",
       "      <td>Matrix, The (1999)</td>\n",
       "      <td>Action|Sci-Fi|Thriller</td>\n",
       "      <td>84545.0</td>\n",
       "    </tr>\n",
       "  </tbody>\n",
       "</table>\n",
       "</div>"
      ],
      "text/plain": [
       "                                    title                       genres  \\\n",
       "movieId                                                                  \n",
       "318      Shawshank Redemption, The (1994)                  Crime|Drama   \n",
       "356                   Forrest Gump (1994)     Comedy|Drama|Romance|War   \n",
       "296                   Pulp Fiction (1994)  Comedy|Crime|Drama|Thriller   \n",
       "593      Silence of the Lambs, The (1991)        Crime|Horror|Thriller   \n",
       "2571                   Matrix, The (1999)       Action|Sci-Fi|Thriller   \n",
       "\n",
       "         total_ratings  \n",
       "movieId                 \n",
       "318            97999.0  \n",
       "356            97040.0  \n",
       "296            92406.0  \n",
       "593            87899.0  \n",
       "2571           84545.0  "
      ]
     },
     "execution_count": 23,
     "metadata": {},
     "output_type": "execute_result"
    }
   ],
   "source": [
    "movies.sort_values('total_ratings', ascending=False).head()"
   ]
  },
  {
   "cell_type": "code",
   "execution_count": 24,
   "metadata": {},
   "outputs": [],
   "source": [
    "# média da nota por filme\n",
    "nota_media = ratings.groupby('movieId').mean()['rating']"
   ]
  },
  {
   "cell_type": "code",
   "execution_count": 26,
   "metadata": {},
   "outputs": [],
   "source": [
    "# criando coluna 'nota_media' no DataFrame movies\n",
    "movies['nota_media'] = nota_media"
   ]
  },
  {
   "cell_type": "markdown",
   "metadata": {},
   "source": [
    "# Recomendação COLD START"
   ]
  },
  {
   "cell_type": "code",
   "execution_count": 27,
   "metadata": {},
   "outputs": [
    {
     "data": {
      "text/html": [
       "<div>\n",
       "<style scoped>\n",
       "    .dataframe tbody tr th:only-of-type {\n",
       "        vertical-align: middle;\n",
       "    }\n",
       "\n",
       "    .dataframe tbody tr th {\n",
       "        vertical-align: top;\n",
       "    }\n",
       "\n",
       "    .dataframe thead th {\n",
       "        text-align: right;\n",
       "    }\n",
       "</style>\n",
       "<table border=\"1\" class=\"dataframe\">\n",
       "  <thead>\n",
       "    <tr style=\"text-align: right;\">\n",
       "      <th></th>\n",
       "      <th>title</th>\n",
       "      <th>genres</th>\n",
       "      <th>total_ratings</th>\n",
       "      <th>nota_media</th>\n",
       "    </tr>\n",
       "    <tr>\n",
       "      <th>movieId</th>\n",
       "      <th></th>\n",
       "      <th></th>\n",
       "      <th></th>\n",
       "      <th></th>\n",
       "    </tr>\n",
       "  </thead>\n",
       "  <tbody>\n",
       "    <tr>\n",
       "      <th>318</th>\n",
       "      <td>Shawshank Redemption, The (1994)</td>\n",
       "      <td>Crime|Drama</td>\n",
       "      <td>97999.0</td>\n",
       "      <td>4.424188</td>\n",
       "    </tr>\n",
       "    <tr>\n",
       "      <th>858</th>\n",
       "      <td>Godfather, The (1972)</td>\n",
       "      <td>Crime|Drama</td>\n",
       "      <td>60904.0</td>\n",
       "      <td>4.332893</td>\n",
       "    </tr>\n",
       "    <tr>\n",
       "      <th>50</th>\n",
       "      <td>Usual Suspects, The (1995)</td>\n",
       "      <td>Crime|Mystery|Thriller</td>\n",
       "      <td>62180.0</td>\n",
       "      <td>4.291959</td>\n",
       "    </tr>\n",
       "    <tr>\n",
       "      <th>1221</th>\n",
       "      <td>Godfather: Part II, The (1974)</td>\n",
       "      <td>Crime|Drama</td>\n",
       "      <td>38875.0</td>\n",
       "      <td>4.263035</td>\n",
       "    </tr>\n",
       "    <tr>\n",
       "      <th>527</th>\n",
       "      <td>Schindler's List (1993)</td>\n",
       "      <td>Drama|War</td>\n",
       "      <td>71516.0</td>\n",
       "      <td>4.257502</td>\n",
       "    </tr>\n",
       "    <tr>\n",
       "      <th>2019</th>\n",
       "      <td>Seven Samurai (Shichinin no samurai) (1954)</td>\n",
       "      <td>Action|Adventure|Drama</td>\n",
       "      <td>14578.0</td>\n",
       "      <td>4.254116</td>\n",
       "    </tr>\n",
       "    <tr>\n",
       "      <th>1203</th>\n",
       "      <td>12 Angry Men (1957)</td>\n",
       "      <td>Drama</td>\n",
       "      <td>17931.0</td>\n",
       "      <td>4.237075</td>\n",
       "    </tr>\n",
       "    <tr>\n",
       "      <th>904</th>\n",
       "      <td>Rear Window (1954)</td>\n",
       "      <td>Mystery|Thriller</td>\n",
       "      <td>22264.0</td>\n",
       "      <td>4.230799</td>\n",
       "    </tr>\n",
       "    <tr>\n",
       "      <th>2959</th>\n",
       "      <td>Fight Club (1999)</td>\n",
       "      <td>Action|Crime|Drama|Thriller</td>\n",
       "      <td>65678.0</td>\n",
       "      <td>4.230663</td>\n",
       "    </tr>\n",
       "    <tr>\n",
       "      <th>1193</th>\n",
       "      <td>One Flew Over the Cuckoo's Nest (1975)</td>\n",
       "      <td>Drama</td>\n",
       "      <td>42181.0</td>\n",
       "      <td>4.222920</td>\n",
       "    </tr>\n",
       "  </tbody>\n",
       "</table>\n",
       "</div>"
      ],
      "text/plain": [
       "                                               title  \\\n",
       "movieId                                                \n",
       "318                 Shawshank Redemption, The (1994)   \n",
       "858                            Godfather, The (1972)   \n",
       "50                        Usual Suspects, The (1995)   \n",
       "1221                  Godfather: Part II, The (1974)   \n",
       "527                          Schindler's List (1993)   \n",
       "2019     Seven Samurai (Shichinin no samurai) (1954)   \n",
       "1203                             12 Angry Men (1957)   \n",
       "904                               Rear Window (1954)   \n",
       "2959                               Fight Club (1999)   \n",
       "1193          One Flew Over the Cuckoo's Nest (1975)   \n",
       "\n",
       "                              genres  total_ratings  nota_media  \n",
       "movieId                                                          \n",
       "318                      Crime|Drama        97999.0    4.424188  \n",
       "858                      Crime|Drama        60904.0    4.332893  \n",
       "50            Crime|Mystery|Thriller        62180.0    4.291959  \n",
       "1221                     Crime|Drama        38875.0    4.263035  \n",
       "527                        Drama|War        71516.0    4.257502  \n",
       "2019          Action|Adventure|Drama        14578.0    4.254116  \n",
       "1203                           Drama        17931.0    4.237075  \n",
       "904                 Mystery|Thriller        22264.0    4.230799  \n",
       "2959     Action|Crime|Drama|Thriller        65678.0    4.230663  \n",
       "1193                           Drama        42181.0    4.222920  "
      ]
     },
     "execution_count": 27,
     "metadata": {},
     "output_type": "execute_result"
    }
   ],
   "source": [
    "movies.query(\"total_ratings >= @mediana_total_ratings\").sort_values('nota_media', ascending=False).head(10)"
   ]
  },
  {
   "cell_type": "code",
   "execution_count": 28,
   "metadata": {},
   "outputs": [
    {
     "data": {
      "text/html": [
       "<div>\n",
       "<style scoped>\n",
       "    .dataframe tbody tr th:only-of-type {\n",
       "        vertical-align: middle;\n",
       "    }\n",
       "\n",
       "    .dataframe tbody tr th {\n",
       "        vertical-align: top;\n",
       "    }\n",
       "\n",
       "    .dataframe thead th {\n",
       "        text-align: right;\n",
       "    }\n",
       "</style>\n",
       "<table border=\"1\" class=\"dataframe\">\n",
       "  <thead>\n",
       "    <tr style=\"text-align: right;\">\n",
       "      <th></th>\n",
       "      <th>title</th>\n",
       "      <th>genres</th>\n",
       "      <th>total_ratings</th>\n",
       "      <th>nota_media</th>\n",
       "    </tr>\n",
       "    <tr>\n",
       "      <th>movieId</th>\n",
       "      <th></th>\n",
       "      <th></th>\n",
       "      <th></th>\n",
       "      <th></th>\n",
       "    </tr>\n",
       "  </thead>\n",
       "  <tbody>\n",
       "    <tr>\n",
       "      <th>318</th>\n",
       "      <td>Shawshank Redemption, The (1994)</td>\n",
       "      <td>Crime|Drama</td>\n",
       "      <td>97999.0</td>\n",
       "      <td>4.424188</td>\n",
       "    </tr>\n",
       "    <tr>\n",
       "      <th>356</th>\n",
       "      <td>Forrest Gump (1994)</td>\n",
       "      <td>Comedy|Drama|Romance|War</td>\n",
       "      <td>97040.0</td>\n",
       "      <td>4.056585</td>\n",
       "    </tr>\n",
       "    <tr>\n",
       "      <th>296</th>\n",
       "      <td>Pulp Fiction (1994)</td>\n",
       "      <td>Comedy|Crime|Drama|Thriller</td>\n",
       "      <td>92406.0</td>\n",
       "      <td>4.173971</td>\n",
       "    </tr>\n",
       "    <tr>\n",
       "      <th>593</th>\n",
       "      <td>Silence of the Lambs, The (1991)</td>\n",
       "      <td>Crime|Horror|Thriller</td>\n",
       "      <td>87899.0</td>\n",
       "      <td>4.151412</td>\n",
       "    </tr>\n",
       "    <tr>\n",
       "      <th>2571</th>\n",
       "      <td>Matrix, The (1999)</td>\n",
       "      <td>Action|Sci-Fi|Thriller</td>\n",
       "      <td>84545.0</td>\n",
       "      <td>4.149695</td>\n",
       "    </tr>\n",
       "    <tr>\n",
       "      <th>260</th>\n",
       "      <td>Star Wars: Episode IV - A New Hope (1977)</td>\n",
       "      <td>Action|Adventure|Sci-Fi</td>\n",
       "      <td>81815.0</td>\n",
       "      <td>4.120455</td>\n",
       "    </tr>\n",
       "    <tr>\n",
       "      <th>480</th>\n",
       "      <td>Jurassic Park (1993)</td>\n",
       "      <td>Action|Adventure|Sci-Fi|Thriller</td>\n",
       "      <td>76451.0</td>\n",
       "      <td>3.665034</td>\n",
       "    </tr>\n",
       "    <tr>\n",
       "      <th>527</th>\n",
       "      <td>Schindler's List (1993)</td>\n",
       "      <td>Drama|War</td>\n",
       "      <td>71516.0</td>\n",
       "      <td>4.257502</td>\n",
       "    </tr>\n",
       "    <tr>\n",
       "      <th>110</th>\n",
       "      <td>Braveheart (1995)</td>\n",
       "      <td>Action|Drama|War</td>\n",
       "      <td>68803.0</td>\n",
       "      <td>4.008481</td>\n",
       "    </tr>\n",
       "    <tr>\n",
       "      <th>1</th>\n",
       "      <td>Toy Story (1995)</td>\n",
       "      <td>Adventure|Animation|Children|Comedy|Fantasy</td>\n",
       "      <td>68469.0</td>\n",
       "      <td>3.886649</td>\n",
       "    </tr>\n",
       "  </tbody>\n",
       "</table>\n",
       "</div>"
      ],
      "text/plain": [
       "                                             title  \\\n",
       "movieId                                              \n",
       "318               Shawshank Redemption, The (1994)   \n",
       "356                            Forrest Gump (1994)   \n",
       "296                            Pulp Fiction (1994)   \n",
       "593               Silence of the Lambs, The (1991)   \n",
       "2571                            Matrix, The (1999)   \n",
       "260      Star Wars: Episode IV - A New Hope (1977)   \n",
       "480                           Jurassic Park (1993)   \n",
       "527                        Schindler's List (1993)   \n",
       "110                              Braveheart (1995)   \n",
       "1                                 Toy Story (1995)   \n",
       "\n",
       "                                              genres  total_ratings  \\\n",
       "movieId                                                               \n",
       "318                                      Crime|Drama        97999.0   \n",
       "356                         Comedy|Drama|Romance|War        97040.0   \n",
       "296                      Comedy|Crime|Drama|Thriller        92406.0   \n",
       "593                            Crime|Horror|Thriller        87899.0   \n",
       "2571                          Action|Sci-Fi|Thriller        84545.0   \n",
       "260                          Action|Adventure|Sci-Fi        81815.0   \n",
       "480                 Action|Adventure|Sci-Fi|Thriller        76451.0   \n",
       "527                                        Drama|War        71516.0   \n",
       "110                                 Action|Drama|War        68803.0   \n",
       "1        Adventure|Animation|Children|Comedy|Fantasy        68469.0   \n",
       "\n",
       "         nota_media  \n",
       "movieId              \n",
       "318        4.424188  \n",
       "356        4.056585  \n",
       "296        4.173971  \n",
       "593        4.151412  \n",
       "2571       4.149695  \n",
       "260        4.120455  \n",
       "480        3.665034  \n",
       "527        4.257502  \n",
       "110        4.008481  \n",
       "1          3.886649  "
      ]
     },
     "execution_count": 28,
     "metadata": {},
     "output_type": "execute_result"
    }
   ],
   "source": [
    "movies.query(\"nota_media >= @media_rating\").sort_values('total_ratings', ascending=False).head(10)"
   ]
  },
  {
   "cell_type": "markdown",
   "metadata": {},
   "source": [
    "# Próximos passos, split deve ser feito antes do pivot"
   ]
  },
  {
   "cell_type": "code",
   "execution_count": 29,
   "metadata": {},
   "outputs": [],
   "source": [
    "# convertendo o tempo que veio do dataset para timestamp\n",
    "df['timestamp'] = pd.to_datetime(df['timestamp'], unit='s')"
   ]
  },
  {
   "cell_type": "code",
   "execution_count": 30,
   "metadata": {},
   "outputs": [
    {
     "data": {
      "text/html": [
       "<div>\n",
       "<style scoped>\n",
       "    .dataframe tbody tr th:only-of-type {\n",
       "        vertical-align: middle;\n",
       "    }\n",
       "\n",
       "    .dataframe tbody tr th {\n",
       "        vertical-align: top;\n",
       "    }\n",
       "\n",
       "    .dataframe thead th {\n",
       "        text-align: right;\n",
       "    }\n",
       "</style>\n",
       "<table border=\"1\" class=\"dataframe\">\n",
       "  <thead>\n",
       "    <tr style=\"text-align: right;\">\n",
       "      <th></th>\n",
       "      <th>movieId</th>\n",
       "      <th>userId</th>\n",
       "      <th>rating</th>\n",
       "      <th>timestamp</th>\n",
       "      <th>title</th>\n",
       "      <th>genres</th>\n",
       "      <th>total_ratings</th>\n",
       "    </tr>\n",
       "  </thead>\n",
       "  <tbody>\n",
       "    <tr>\n",
       "      <th>0</th>\n",
       "      <td>1221</td>\n",
       "      <td>3</td>\n",
       "      <td>4.0</td>\n",
       "      <td>1999-12-14 03:16:47</td>\n",
       "      <td>Godfather: Part II, The (1974)</td>\n",
       "      <td>Crime|Drama</td>\n",
       "      <td>38875</td>\n",
       "    </tr>\n",
       "    <tr>\n",
       "      <th>1</th>\n",
       "      <td>1221</td>\n",
       "      <td>15</td>\n",
       "      <td>4.0</td>\n",
       "      <td>2013-06-09 20:24:37</td>\n",
       "      <td>Godfather: Part II, The (1974)</td>\n",
       "      <td>Crime|Drama</td>\n",
       "      <td>38875</td>\n",
       "    </tr>\n",
       "    <tr>\n",
       "      <th>2</th>\n",
       "      <td>1221</td>\n",
       "      <td>73</td>\n",
       "      <td>5.0</td>\n",
       "      <td>2015-07-23 17:14:13</td>\n",
       "      <td>Godfather: Part II, The (1974)</td>\n",
       "      <td>Crime|Drama</td>\n",
       "      <td>38875</td>\n",
       "    </tr>\n",
       "    <tr>\n",
       "      <th>3</th>\n",
       "      <td>1221</td>\n",
       "      <td>88</td>\n",
       "      <td>5.0</td>\n",
       "      <td>2008-04-17 17:48:22</td>\n",
       "      <td>Godfather: Part II, The (1974)</td>\n",
       "      <td>Crime|Drama</td>\n",
       "      <td>38875</td>\n",
       "    </tr>\n",
       "    <tr>\n",
       "      <th>4</th>\n",
       "      <td>1221</td>\n",
       "      <td>95</td>\n",
       "      <td>4.5</td>\n",
       "      <td>2004-06-11 16:07:27</td>\n",
       "      <td>Godfather: Part II, The (1974)</td>\n",
       "      <td>Crime|Drama</td>\n",
       "      <td>38875</td>\n",
       "    </tr>\n",
       "  </tbody>\n",
       "</table>\n",
       "</div>"
      ],
      "text/plain": [
       "   movieId  userId  rating           timestamp  \\\n",
       "0     1221       3     4.0 1999-12-14 03:16:47   \n",
       "1     1221      15     4.0 2013-06-09 20:24:37   \n",
       "2     1221      73     5.0 2015-07-23 17:14:13   \n",
       "3     1221      88     5.0 2008-04-17 17:48:22   \n",
       "4     1221      95     4.5 2004-06-11 16:07:27   \n",
       "\n",
       "                            title       genres  total_ratings  \n",
       "0  Godfather: Part II, The (1974)  Crime|Drama          38875  \n",
       "1  Godfather: Part II, The (1974)  Crime|Drama          38875  \n",
       "2  Godfather: Part II, The (1974)  Crime|Drama          38875  \n",
       "3  Godfather: Part II, The (1974)  Crime|Drama          38875  \n",
       "4  Godfather: Part II, The (1974)  Crime|Drama          38875  "
      ]
     },
     "execution_count": 30,
     "metadata": {},
     "output_type": "execute_result"
    }
   ],
   "source": [
    "df.head()"
   ]
  },
  {
   "cell_type": "code",
   "execution_count": 31,
   "metadata": {},
   "outputs": [],
   "source": [
    "#df.timestamp.dt.year.value_counts()\n",
    "#df.timestamp.dt.year.max()"
   ]
  },
  {
   "cell_type": "code",
   "execution_count": 32,
   "metadata": {},
   "outputs": [],
   "source": [
    "# dividindo o dataset para treino em relação ao tempo\n",
    "treino = df[(df.timestamp >= datetime.datetime(2005,1,1)) & (df.timestamp <= datetime.datetime(2011,12,31))]"
   ]
  },
  {
   "cell_type": "code",
   "execution_count": 33,
   "metadata": {},
   "outputs": [],
   "source": [
    "# dividindo o dataset para teste em relação ao tempo\n",
    "teste = df[(df.timestamp >= datetime.datetime(2012,1,1))]"
   ]
  },
  {
   "cell_type": "code",
   "execution_count": 34,
   "metadata": {},
   "outputs": [],
   "source": [
    "# garantindo que apenas os mesmo usuários vão estar nos dois conjunto (treino e teste)\n",
    "arr_userId_test = teste.userId.unique()\n",
    "treino = treino[treino['userId'].isin(arr_userId_test)]\n",
    "arr_userId_treino = treino.userId.unique()\n",
    "teste = teste[teste['userId'].isin(arr_userId_treino)]"
   ]
  },
  {
   "cell_type": "code",
   "execution_count": 35,
   "metadata": {},
   "outputs": [
    {
     "data": {
      "text/plain": [
       "5104"
      ]
     },
     "execution_count": 35,
     "metadata": {},
     "output_type": "execute_result"
    }
   ],
   "source": [
    "len(treino.userId.unique())"
   ]
  },
  {
   "cell_type": "code",
   "execution_count": 36,
   "metadata": {},
   "outputs": [
    {
     "data": {
      "text/plain": [
       "5104"
      ]
     },
     "execution_count": 36,
     "metadata": {},
     "output_type": "execute_result"
    }
   ],
   "source": [
    "len(teste.userId.unique())"
   ]
  },
  {
   "cell_type": "code",
   "execution_count": null,
   "metadata": {},
   "outputs": [],
   "source": []
  },
  {
   "cell_type": "code",
   "execution_count": 37,
   "metadata": {},
   "outputs": [],
   "source": [
    "treino_pivot = treino.pivot_table(index='userId', columns='movieId', values='rating').fillna(0)"
   ]
  },
  {
   "cell_type": "code",
   "execution_count": 38,
   "metadata": {},
   "outputs": [],
   "source": [
    "teste_pivot = teste.pivot_table(index='userId', columns='movieId', values='rating').fillna(0)"
   ]
  },
  {
   "cell_type": "code",
   "execution_count": 39,
   "metadata": {},
   "outputs": [],
   "source": [
    "treino_matrix = csr_matrix(treino_pivot.values)"
   ]
  },
  {
   "cell_type": "code",
   "execution_count": 43,
   "metadata": {},
   "outputs": [],
   "source": [
    "def recomendar_para_usuario(usuario_index):\n",
    "    #Busca os k vizinhos mais próximos do usuário\n",
    "    distancias, indices = modelo.kneighbors([treino_pivot.iloc[usuario_index]], n_neighbors=20)\n",
    "    #usuario mais proximos\n",
    "    usuario_vizinhos = teste_pivot.iloc[indices[0]]\n",
    "    filmes = usuario_vizinhos.agg(np.mean).sort_values(ascending=False).head()\n",
    "    filmes_recomendados = filmes.to_frame()\n",
    "    filmes_recomendados.rename(columns={0: 'notas'}, inplace=True)\n",
    "    filmes_recomendados = filmes_recomendados[filmes_recomendados.notas >= 3]\n",
    "    return movies[movies.index.isin(filmes_recomendados.index)]\n",
    "    \n",
    "def treinamento(matrix):\n",
    "    modelo = NearestNeighbors(n_neighbors=20, algorithm='brute', metric='cosine', n_jobs=-1)\n",
    "    modelo.fit(matrix)\n",
    "    return modelo\n",
    "\n",
    "def notas_do_usuario(usuario):\n",
    "    notas_do_usuario = teste.query(\"userId == %d\" % usuario)\n",
    "    notas_do_usuario = notas_do_usuario[[\"movieId\", \"rating\"]].set_index(\"movieId\")\n",
    "    return notas_do_usuario\n",
    "\n",
    "def validacao(usuario_index):\n",
    "    distancias, indices = modelo.kneighbors([treino_pivot.iloc[usuario_index]])\n",
    "    usuario_vizinhos = teste_pivot.iloc[indices[0]]\n",
    "    return usuario_vizinhos.agg(np.mean).sort_values(ascending=False).head()\n",
    "\n",
    "def filmes_que_acertou(index):\n",
    "    filmes_que_usuario_viu_no_futuro = teste[teste['userId'] == treino_pivot.iloc[index].name]\n",
    "    filmes_que_usuario_viu_no_futuro = filmes_que_usuario_viu_no_futuro.set_index('movieId')\n",
    "    return filmes_que_usuario_viu_no_futuro[filmes_que_usuario_viu_no_futuro.index.isin(filmes_recomendados.index)]\n",
    "\n",
    "def filmes_que_viu_no_futuro(index):\n",
    "    return teste[teste['userId'] == treino_pivot.iloc[index].name]\n",
    "\n",
    "def plot_graf_comparacao(array_real, array_previsao, df_plot):\n",
    "    df_error = pd.DataFrame()\n",
    "    df_error['Real'] = array_real\n",
    "    df_error['Prevista'] = array_previsao\n",
    "    \n",
    "    df_error['movieId'] = df_plot.index\n",
    "    df_error = df_error.set_index('movieId')\n",
    "    df_error['titulo'] = df_plot['titulo']\n",
    "    df_error = df_error.set_index('titulo')\n",
    "    df_error.plot(kind='bar')\n",
    "    plt.xticks(rotation=45)\n",
    "    plt.title(\"Para k = 5\")\n",
    "    plt.ylabel('Nota')\n",
    "    plt.tight_layout()\n",
    "    plt.legend(loc=1)\n",
    "    plt.savefig('plot-comparacaok5.png', dpi=300)\n",
    "    \n",
    "def plot_graf_metrics(rmse, mae):\n",
    "    df_metrics = pd.DataFrame()\n",
    "    df_metrics['RMSE'] = [rmse]\n",
    "    df_metrics['MAE'] = [mae]\n",
    "    df_metrics.plot(kind='bar')\n",
    "    plt.title('RMSE x MAE')\n",
    "    plt.ylabel('Valor')\n",
    "    plt.savefig('plot-metricsk5.png', dpi=300)\n",
    "\n",
    "def notas_previstas(index):\n",
    "    notas_previstas = validacao(index)\n",
    "    notas_previstas = notas_previstas.to_frame()\n",
    "    notas_previstas.rename(columns={0: 'notas'}, inplace=True)\n",
    "    notas_previstas = notas_previstas[notas_previstas.notas >= 3]\n",
    "    notas_previstas = notas_previstas.reset_index()\n",
    "    notas_previstas = notas_previstas.sort_values(by='movieId')\n",
    "    return notas_previstas\n",
    "\n",
    "def notas_reais():\n",
    "    notas_reais = acertou['rating']\n",
    "    notas_reais = notas_reais.to_frame()\n",
    "    notas_reais = notas_reais.reset_index()\n",
    "    notas_reais = notas_reais.sort_values(by='movieId')\n",
    "    return notas_reais\n",
    "    \n",
    "def normalizar_prev_real(nota_prevista, nota_real):\n",
    "    arr_movieId_previsao = nota_prevista.movieId.unique()\n",
    "    nota_real = nota_real[nota_real['movieId'].isin(arr_movieId_previsao)]\n",
    "    \n",
    "    arr_movieId_reais = nota_real.movieId.unique()\n",
    "    nota_prevista = nota_prevista[nota_prevista['movieId'].isin(arr_movieId_reais)]\n",
    "    \n",
    "    return nota_prevista, nota_real"
   ]
  },
  {
   "cell_type": "code",
   "execution_count": null,
   "metadata": {},
   "outputs": [],
   "source": []
  },
  {
   "cell_type": "code",
   "execution_count": 44,
   "metadata": {},
   "outputs": [],
   "source": [
    "# treinando o modelo\n",
    "modelo = treinamento(treino_matrix)"
   ]
  },
  {
   "cell_type": "code",
   "execution_count": 130,
   "metadata": {},
   "outputs": [],
   "source": [
    "# escolhendo usuário de forma aleatória\n",
    "index = np.random.choice(treino_pivot.shape[0])"
   ]
  },
  {
   "cell_type": "code",
   "execution_count": 131,
   "metadata": {},
   "outputs": [],
   "source": [
    "# chamando a função 'recomendar_para_usuario'\n",
    "filmes_recomendados = recomendar_para_usuario(index)"
   ]
  },
  {
   "cell_type": "code",
   "execution_count": 132,
   "metadata": {},
   "outputs": [
    {
     "data": {
      "text/html": [
       "<div>\n",
       "<style scoped>\n",
       "    .dataframe tbody tr th:only-of-type {\n",
       "        vertical-align: middle;\n",
       "    }\n",
       "\n",
       "    .dataframe tbody tr th {\n",
       "        vertical-align: top;\n",
       "    }\n",
       "\n",
       "    .dataframe thead th {\n",
       "        text-align: right;\n",
       "    }\n",
       "</style>\n",
       "<table border=\"1\" class=\"dataframe\">\n",
       "  <thead>\n",
       "    <tr style=\"text-align: right;\">\n",
       "      <th></th>\n",
       "      <th>title</th>\n",
       "      <th>genres</th>\n",
       "      <th>total_ratings</th>\n",
       "      <th>nota_media</th>\n",
       "    </tr>\n",
       "    <tr>\n",
       "      <th>movieId</th>\n",
       "      <th></th>\n",
       "      <th></th>\n",
       "      <th></th>\n",
       "      <th></th>\n",
       "    </tr>\n",
       "  </thead>\n",
       "  <tbody>\n",
       "    <tr>\n",
       "      <th>89745</th>\n",
       "      <td>Avengers, The (2012)</td>\n",
       "      <td>Action|Adventure|Sci-Fi|IMAX</td>\n",
       "      <td>17700.0</td>\n",
       "      <td>3.799011</td>\n",
       "    </tr>\n",
       "    <tr>\n",
       "      <th>91529</th>\n",
       "      <td>Dark Knight Rises, The (2012)</td>\n",
       "      <td>Action|Adventure|Crime|IMAX</td>\n",
       "      <td>19711.0</td>\n",
       "      <td>3.977855</td>\n",
       "    </tr>\n",
       "    <tr>\n",
       "      <th>104841</th>\n",
       "      <td>Gravity (2013)</td>\n",
       "      <td>Action|Sci-Fi|IMAX</td>\n",
       "      <td>11982.0</td>\n",
       "      <td>3.632741</td>\n",
       "    </tr>\n",
       "    <tr>\n",
       "      <th>122886</th>\n",
       "      <td>Star Wars: Episode VII - The Force Awakens (2015)</td>\n",
       "      <td>Action|Adventure|Fantasy|Sci-Fi|IMAX</td>\n",
       "      <td>12747.0</td>\n",
       "      <td>3.794736</td>\n",
       "    </tr>\n",
       "    <tr>\n",
       "      <th>134130</th>\n",
       "      <td>The Martian (2015)</td>\n",
       "      <td>Adventure|Drama|Sci-Fi</td>\n",
       "      <td>16160.0</td>\n",
       "      <td>4.043812</td>\n",
       "    </tr>\n",
       "  </tbody>\n",
       "</table>\n",
       "</div>"
      ],
      "text/plain": [
       "                                                     title  \\\n",
       "movieId                                                      \n",
       "89745                                 Avengers, The (2012)   \n",
       "91529                        Dark Knight Rises, The (2012)   \n",
       "104841                                      Gravity (2013)   \n",
       "122886   Star Wars: Episode VII - The Force Awakens (2015)   \n",
       "134130                                  The Martian (2015)   \n",
       "\n",
       "                                       genres  total_ratings  nota_media  \n",
       "movieId                                                                   \n",
       "89745            Action|Adventure|Sci-Fi|IMAX        17700.0    3.799011  \n",
       "91529             Action|Adventure|Crime|IMAX        19711.0    3.977855  \n",
       "104841                     Action|Sci-Fi|IMAX        11982.0    3.632741  \n",
       "122886   Action|Adventure|Fantasy|Sci-Fi|IMAX        12747.0    3.794736  \n",
       "134130                 Adventure|Drama|Sci-Fi        16160.0    4.043812  "
      ]
     },
     "execution_count": 132,
     "metadata": {},
     "output_type": "execute_result"
    }
   ],
   "source": [
    "# mostrando os filmes que o SR recomendou\n",
    "filmes_recomendados"
   ]
  },
  {
   "cell_type": "code",
   "execution_count": 133,
   "metadata": {},
   "outputs": [],
   "source": [
    "#iloc pega pelo index (numero da linha) e loc pega por onde onde aquele valor x está\n",
    "#id_usuario_recomendacao = treino_pivot.iloc[index].name"
   ]
  },
  {
   "cell_type": "code",
   "execution_count": 134,
   "metadata": {},
   "outputs": [],
   "source": [
    "# verificando os filmes que o SR acertou em dizer que o usuário gostou\n",
    "acertou = filmes_que_acertou(index)"
   ]
  },
  {
   "cell_type": "code",
   "execution_count": 135,
   "metadata": {},
   "outputs": [
    {
     "data": {
      "text/html": [
       "<div>\n",
       "<style scoped>\n",
       "    .dataframe tbody tr th:only-of-type {\n",
       "        vertical-align: middle;\n",
       "    }\n",
       "\n",
       "    .dataframe tbody tr th {\n",
       "        vertical-align: top;\n",
       "    }\n",
       "\n",
       "    .dataframe thead th {\n",
       "        text-align: right;\n",
       "    }\n",
       "</style>\n",
       "<table border=\"1\" class=\"dataframe\">\n",
       "  <thead>\n",
       "    <tr style=\"text-align: right;\">\n",
       "      <th></th>\n",
       "      <th>userId</th>\n",
       "      <th>rating</th>\n",
       "      <th>timestamp</th>\n",
       "      <th>title</th>\n",
       "      <th>genres</th>\n",
       "      <th>total_ratings</th>\n",
       "    </tr>\n",
       "    <tr>\n",
       "      <th>movieId</th>\n",
       "      <th></th>\n",
       "      <th></th>\n",
       "      <th></th>\n",
       "      <th></th>\n",
       "      <th></th>\n",
       "      <th></th>\n",
       "    </tr>\n",
       "  </thead>\n",
       "  <tbody>\n",
       "    <tr>\n",
       "      <th>89745</th>\n",
       "      <td>94749</td>\n",
       "      <td>5.0</td>\n",
       "      <td>2012-05-14 21:13:11</td>\n",
       "      <td>Avengers, The (2012)</td>\n",
       "      <td>Action|Adventure|Sci-Fi|IMAX</td>\n",
       "      <td>17700</td>\n",
       "    </tr>\n",
       "    <tr>\n",
       "      <th>91529</th>\n",
       "      <td>94749</td>\n",
       "      <td>4.5</td>\n",
       "      <td>2012-12-18 01:55:30</td>\n",
       "      <td>Dark Knight Rises, The (2012)</td>\n",
       "      <td>Action|Adventure|Crime|IMAX</td>\n",
       "      <td>19711</td>\n",
       "    </tr>\n",
       "    <tr>\n",
       "      <th>122886</th>\n",
       "      <td>94749</td>\n",
       "      <td>4.5</td>\n",
       "      <td>2016-02-02 20:46:43</td>\n",
       "      <td>Star Wars: Episode VII - The Force Awakens (2015)</td>\n",
       "      <td>Action|Adventure|Fantasy|Sci-Fi|IMAX</td>\n",
       "      <td>12747</td>\n",
       "    </tr>\n",
       "    <tr>\n",
       "      <th>104841</th>\n",
       "      <td>94749</td>\n",
       "      <td>4.5</td>\n",
       "      <td>2013-11-12 04:53:10</td>\n",
       "      <td>Gravity (2013)</td>\n",
       "      <td>Action|Sci-Fi|IMAX</td>\n",
       "      <td>11982</td>\n",
       "    </tr>\n",
       "  </tbody>\n",
       "</table>\n",
       "</div>"
      ],
      "text/plain": [
       "         userId  rating           timestamp  \\\n",
       "movieId                                       \n",
       "89745     94749     5.0 2012-05-14 21:13:11   \n",
       "91529     94749     4.5 2012-12-18 01:55:30   \n",
       "122886    94749     4.5 2016-02-02 20:46:43   \n",
       "104841    94749     4.5 2013-11-12 04:53:10   \n",
       "\n",
       "                                                     title  \\\n",
       "movieId                                                      \n",
       "89745                                 Avengers, The (2012)   \n",
       "91529                        Dark Knight Rises, The (2012)   \n",
       "122886   Star Wars: Episode VII - The Force Awakens (2015)   \n",
       "104841                                      Gravity (2013)   \n",
       "\n",
       "                                       genres  total_ratings  \n",
       "movieId                                                       \n",
       "89745            Action|Adventure|Sci-Fi|IMAX          17700  \n",
       "91529             Action|Adventure|Crime|IMAX          19711  \n",
       "122886   Action|Adventure|Fantasy|Sci-Fi|IMAX          12747  \n",
       "104841                     Action|Sci-Fi|IMAX          11982  "
      ]
     },
     "execution_count": 135,
     "metadata": {},
     "output_type": "execute_result"
    }
   ],
   "source": [
    "acertou"
   ]
  },
  {
   "cell_type": "code",
   "execution_count": 136,
   "metadata": {},
   "outputs": [],
   "source": [
    "#filmes_que_viu_no_futuro(index)"
   ]
  },
  {
   "cell_type": "code",
   "execution_count": null,
   "metadata": {},
   "outputs": [],
   "source": []
  },
  {
   "cell_type": "code",
   "execution_count": 138,
   "metadata": {},
   "outputs": [],
   "source": [
    "# verificando as notas que o SR deu aos filmes\n",
    "previsao = notas_previstas(index)"
   ]
  },
  {
   "cell_type": "code",
   "execution_count": null,
   "metadata": {},
   "outputs": [],
   "source": []
  },
  {
   "cell_type": "code",
   "execution_count": 139,
   "metadata": {},
   "outputs": [],
   "source": [
    "# Verificando as notas reais, ou seja, notas que de fato o usuário deu\n",
    "#notas_reais_arr = acertou['rating']\n",
    "real = notas_reais()"
   ]
  },
  {
   "cell_type": "code",
   "execution_count": 140,
   "metadata": {},
   "outputs": [],
   "source": [
    "# essa função deixa apenas os filmes que estão nos dois DataFrame\n",
    "pred, real = normalizar_prev_real(previsao, real)"
   ]
  },
  {
   "cell_type": "code",
   "execution_count": 141,
   "metadata": {},
   "outputs": [],
   "source": [
    "Y_true = real['rating'].array"
   ]
  },
  {
   "cell_type": "code",
   "execution_count": 142,
   "metadata": {},
   "outputs": [],
   "source": [
    "Y_pred = pred['notas'].array"
   ]
  },
  {
   "cell_type": "code",
   "execution_count": 143,
   "metadata": {},
   "outputs": [],
   "source": [
    "from math import sqrt"
   ]
  },
  {
   "cell_type": "code",
   "execution_count": 144,
   "metadata": {},
   "outputs": [
    {
     "data": {
      "text/plain": [
       "1.2734058661715046"
      ]
     },
     "execution_count": 144,
     "metadata": {},
     "output_type": "execute_result"
    }
   ],
   "source": [
    "# aplicando métrica RMSE\n",
    "rmse = sqrt(mean_squared_error(Y_true, Y_pred))\n",
    "rmse"
   ]
  },
  {
   "cell_type": "code",
   "execution_count": 146,
   "metadata": {},
   "outputs": [
    {
     "data": {
      "text/plain": [
       "1.2625000000000002"
      ]
     },
     "execution_count": 146,
     "metadata": {},
     "output_type": "execute_result"
    }
   ],
   "source": [
    "# aplicando métrica MAE\n",
    "mae = mean_absolute_error(Y_true, Y_pred)\n",
    "mae"
   ]
  },
  {
   "cell_type": "code",
   "execution_count": 147,
   "metadata": {},
   "outputs": [
    {
     "data": {
      "text/plain": [
       "<PandasArray>\n",
       "[5.0, 4.5, 4.5, 4.5]\n",
       "Length: 4, dtype: float64"
      ]
     },
     "execution_count": 147,
     "metadata": {},
     "output_type": "execute_result"
    }
   ],
   "source": [
    "Y_true"
   ]
  },
  {
   "cell_type": "code",
   "execution_count": 148,
   "metadata": {},
   "outputs": [
    {
     "data": {
      "text/plain": [
       "<PandasArray>\n",
       "[3.525, 3.4, 3.4, 3.125]\n",
       "Length: 4, dtype: float64"
      ]
     },
     "execution_count": 148,
     "metadata": {},
     "output_type": "execute_result"
    }
   ],
   "source": [
    "Y_pred"
   ]
  },
  {
   "cell_type": "code",
   "execution_count": 149,
   "metadata": {},
   "outputs": [],
   "source": [
    "df_para_plot = real\n",
    "df_titulo = movies[movies.index.isin(real.movieId)]\n",
    "df_para_plot = df_para_plot.set_index('movieId')\n",
    "df_para_plot['titulo'] = df_titulo['title']"
   ]
  },
  {
   "cell_type": "code",
   "execution_count": 152,
   "metadata": {},
   "outputs": [
    {
     "data": {
      "image/png": "[encoded data removed]",
      "text/plain": [
       "<Figure size 432x288 with 1 Axes>"
      ]
     },
     "metadata": {
      "needs_background": "light"
     },
     "output_type": "display_data"
    }
   ],
   "source": [
    "# plotando gráfico que compara as notas\n",
    "plot_graf_comparacao(Y_true, Y_pred, df_para_plot)"
   ]
  },
  {
   "cell_type": "code",
   "execution_count": 153,
   "metadata": {},
   "outputs": [
    {
     "data": {
      "image/png": "[encoded data removed]",
      "text/plain": [
       "<Figure size 432x288 with 1 Axes>"
      ]
     },
     "metadata": {
      "needs_background": "light"
     },
     "output_type": "display_data"
    }
   ],
   "source": [
    "# plotando gráfico que compara as métricas RMSE x MAE\n",
    "plot_graf_metrics(rmse, mae)"
   ]
  },
  {
   "cell_type": "code",
   "execution_count": null,
   "metadata": {},
   "outputs": [],
   "source": []
  }
 ],
 "metadata": {
  "kernelspec": {
   "display_name": "Python 3",
   "language": "python",
   "name": "python3"
  },
  "language_info": {
   "codemirror_mode": {
    "name": "ipython",
    "version": 3
   },
   "file_extension": ".py",
   "mimetype": "text/x-python",
   "name": "python",
   "nbconvert_exporter": "python",
   "pygments_lexer": "ipython3",
   "version": "3.8.5"
  }
 },
 "nbformat": 4,
 "nbformat_minor": 2
}
